{
  "nbformat": 4,
  "nbformat_minor": 0,
  "metadata": {
    "colab": {
      "provenance": [],
      "collapsed_sections": [
        "ZLEAHR_-A3Fc",
        "O0-ul1HMRwyw"
      ],
      "include_colab_link": true
    },
    "kernelspec": {
      "name": "python3",
      "display_name": "Python 3"
    },
    "language_info": {
      "name": "python"
    }
  },
  "cells": [
    {
      "cell_type": "markdown",
      "metadata": {
        "id": "view-in-github",
        "colab_type": "text"
      },
      "source": [
        "<a href=\"https://colab.research.google.com/github/sersawy/AI-Assignment/blob/master/yt_dlp_Audio_Video_downloader.ipynb\" target=\"_parent\"><img src=\"https://colab.research.google.com/assets/colab-badge.svg\" alt=\"Open In Colab\"/></a>"
      ]
    },
    {
      "cell_type": "markdown",
      "source": [
        "## [Demo](https://drive.google.com/file/d/1KY6Tc0czV0uvWOdXmar1X8an9KP8nl5Z/view)\n",
        "\n",
        "[Cookie Editor](https://chromewebstore.google.com/detail/cookie-editor/hlkenndednhfkekhgcdicdfddnkalmdm?hl=en-US)"
      ],
      "metadata": {
        "id": "-R6hhqRwSvOO"
      }
    },
    {
      "cell_type": "markdown",
      "metadata": {
        "id": "Vtjdr_KuLDhm"
      },
      "source": [
        "## **Mount Google Drive**\n",
        "To stream files we need to mount Google Drive."
      ]
    },
    {
      "cell_type": "code",
      "execution_count": null,
      "metadata": {
        "id": "C3KvEwNrVxcy"
      },
      "outputs": [],
      "source": [
        "from google.colab import drive\n",
        "drive.mount('/gdrive')\n",
        "\n",
        "# Mount drive to '/gdrive/MyDrive/'"
      ]
    },
    {
      "cell_type": "markdown",
      "metadata": {
        "id": "2WiX1USKKxb6"
      },
      "source": [
        "<br>\n",
        "<p align=\"center\">\n",
        "  <img src=\"https://raw.githubusercontent.com/yt-dlp/yt-dlp/master/.github/banner.svg\" alt=\"yt-dlp image\"/>\n",
        "</p>\n",
        "<br>\n",
        "<p align=\"center\">\n",
        "  <a href=\"https://github.com/yt-dlp/yt-dlp/blob/master/supportedsites.md\">Supported Sites</a>\n",
        "</p>\n",
        "<p align=\"center\">\n",
        "  <a href=\"https://github.com/yt-dlp/yt-dlp/?tab=readme-ov-file#usage-and-options\">Documentation</a>\n",
        "</p>\n",
        "<hr>\n",
        "\n"
      ]
    },
    {
      "cell_type": "markdown",
      "metadata": {
        "id": "ZLEAHR_-A3Fc"
      },
      "source": [
        "###**Installion**"
      ]
    },
    {
      "cell_type": "code",
      "execution_count": null,
      "metadata": {
        "id": "QnDimWzBA8NG"
      },
      "outputs": [],
      "source": [
        "!sudo apt update\n",
        "# !sudo wget https://github.com/yt-dlp/yt-dlp/releases/latest/download/yt-dlp -O /usr/local/bin/yt-dlp\n",
        "# !sudo chmod a+rx /usr/local/bin/yt-dlp  # Make executable\n",
        "!sudo python3 -m pip install yt-dlp\n",
        "!sudo apt install -y atomicparsley\n",
        "!sudo apt install -y ffmpeg\n",
        "!ffmpeg -version\n",
        "!sudo yt-dlp -U"
      ]
    },
    {
      "cell_type": "markdown",
      "source": [
        "###**Usage**"
      ],
      "metadata": {
        "id": "O0-ul1HMRwyw"
      }
    },
    {
      "cell_type": "code",
      "source": [
        "import os\n",
        "cwd = '/gdrive/MyDrive/'\n",
        "os.chdir(cwd)\n",
        "\n",
        "# Change to Your Preffered Path\n",
        "outputPath = '/gdrive/MyDrive/tempTest'\n",
        "# Change to Your Preffered file name\n",
        "fileName = \"test\"\n",
        "\n",
        "output = outputPath + \"/\" + fileName + \".%(ext)s\" # The last part handles file extension\n",
        "print(output)\n",
        "\n",
        "needCookies = input(\"Enter 1 if you need to create file 'cookies.txt': \")\n",
        "if needCookies == '1':\n",
        "  # Change to Your Preffered Path\n",
        "  cookiesPath = '/gdrive/MyDrive/tempTest'\n",
        "  cookies = cookiesPath + \"/cookies.txt\"\n",
        "  file = open(cookies, 'a')\n",
        "  file.close()\n",
        "\n",
        "# To input URL During the code run\n",
        "downloadURL = input(\"Enter Download URL: \")\n",
        "\n",
        "# To enter URL Manually without input\n",
        "# downloadURL = ''\n",
        "\n",
        "# yt-dlp\n",
        "!yt-dlp \"$downloadURL\" --cookies \"$cookies\" -o \"$output\"\n",
        "\n",
        "# # For public download links No need to use cookies\n",
        "# !yt-dlp \"$downloadURL\" -o \"$output.%(ext)s\"\n"
      ],
      "metadata": {
        "id": "tKwsl6beR3CS"
      },
      "execution_count": null,
      "outputs": []
    }
  ]
}